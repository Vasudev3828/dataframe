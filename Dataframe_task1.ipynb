{
  "nbformat": 4,
  "nbformat_minor": 0,
  "metadata": {
    "colab": {
      "provenance": []
    },
    "kernelspec": {
      "name": "python3",
      "display_name": "Python 3"
    },
    "language_info": {
      "name": "python"
    }
  },
  "cells": [
    {
      "cell_type": "markdown",
      "source": [
        "# **DataFrame Task By Vasudev.A**\n",
        "\n",
        "\n"
      ],
      "metadata": {
        "id": "nQ7RTxjCSanP"
      }
    },
    {
      "cell_type": "markdown",
      "source": [
        "### Exercise 1: Create a DataFrame from a Dictionary\n",
        "- **Task**: Create a DataFrame using the following dictionary:\n",
        "  ```python\n",
        "  data = {\n",
        "      'Product': ['Laptop', 'Phone', 'Tablet'],\n",
        "      'Price': [1200, 800, 400],\n",
        "      'Stock': [10, 50, 30]\n",
        "  }\n",
        "  ```\n",
        "  - Display the DataFrame."
      ],
      "metadata": {
        "id": "0Dd5LH3LSWIg"
      }
    },
    {
      "cell_type": "code",
      "source": [
        "import pandas as pd\n",
        "data = {\n",
        "    'Product': ['Laptop', 'Phone', 'Tablet'],\n",
        "    'Price': [1200, 800, 400],\n",
        "    'Stock': [10, 50, 30]\n",
        "}\n",
        "\n",
        "df = pd.DataFrame(data)\n",
        "print(df)\n"
      ],
      "metadata": {
        "colab": {
          "base_uri": "https://localhost:8080/"
        },
        "id": "IeH7isaPSokp",
        "outputId": "0edf7e8d-cc45-4f8f-ae9a-ca6ffda427c7"
      },
      "execution_count": 5,
      "outputs": [
        {
          "output_type": "stream",
          "name": "stdout",
          "text": [
            "  Product  Price  Stock\n",
            "0  Laptop   1200     10\n",
            "1   Phone    800     50\n",
            "2  Tablet    400     30\n"
          ]
        }
      ]
    },
    {
      "cell_type": "markdown",
      "source": [
        "### Exercise 2: Access a Column\n",
        "- **Task**: From the DataFrame created in Exercise 1, access and print the **'Product'** column.\n"
      ],
      "metadata": {
        "id": "ouwrOCxyTtNn"
      }
    },
    {
      "cell_type": "code",
      "source": [
        "print(df['Product'])"
      ],
      "metadata": {
        "colab": {
          "base_uri": "https://localhost:8080/"
        },
        "id": "SI1UNdF3TucS",
        "outputId": "9e851e2b-5b28-4053-d5b8-246603735ac4"
      },
      "execution_count": 7,
      "outputs": [
        {
          "output_type": "stream",
          "name": "stdout",
          "text": [
            "0    Laptop\n",
            "1     Phone\n",
            "2    Tablet\n",
            "Name: Product, dtype: object\n"
          ]
        }
      ]
    },
    {
      "cell_type": "markdown",
      "source": [
        "### Exercise 3: Add a New Column\n",
        "- **Task**: Add a new column called **'Discount'** to the DataFrame with the values `[100, 50, 20]`."
      ],
      "metadata": {
        "id": "CDyBnXmmT-PZ"
      }
    },
    {
      "cell_type": "code",
      "source": [
        "df['Discount'] = [100, 50, 20]\n",
        "print(df)"
      ],
      "metadata": {
        "colab": {
          "base_uri": "https://localhost:8080/"
        },
        "id": "iA9gIj8vT_VS",
        "outputId": "39d54e6d-f396-41f5-e16f-990211ba28ad"
      },
      "execution_count": 8,
      "outputs": [
        {
          "output_type": "stream",
          "name": "stdout",
          "text": [
            "  Product  Price  Stock  Discount\n",
            "0  Laptop   1200     10       100\n",
            "1   Phone    800     50        50\n",
            "2  Tablet    400     30        20\n"
          ]
        }
      ]
    },
    {
      "cell_type": "markdown",
      "source": [
        "### Exercise 4: Remove a Column\n",
        "- **Task**: Remove the **'Stock'** column from the DataFrame using the `drop()` method, and display the updated DataFrame."
      ],
      "metadata": {
        "id": "PKwSc80fUMyb"
      }
    },
    {
      "cell_type": "code",
      "source": [
        "df =df.drop('Stock', axis=1)\n",
        "print(df)"
      ],
      "metadata": {
        "colab": {
          "base_uri": "https://localhost:8080/"
        },
        "id": "ZPyvIGSDUQVm",
        "outputId": "2da8fe8d-057a-44ae-dcc0-6a0f38b7ccb8"
      },
      "execution_count": 13,
      "outputs": [
        {
          "output_type": "stream",
          "name": "stdout",
          "text": [
            "  Product  Price  Discount\n",
            "0  Laptop   1200       100\n",
            "1   Phone    800        50\n",
            "2  Tablet    400        20\n"
          ]
        }
      ]
    },
    {
      "cell_type": "markdown",
      "source": [
        "### Exercise 5: Select a Row\n",
        "- **Task**: Select and print the row for the **second product** using the `iloc[]` method."
      ],
      "metadata": {
        "id": "FwKD0QmpUweR"
      }
    },
    {
      "cell_type": "code",
      "source": [
        "print(df.iloc[1])"
      ],
      "metadata": {
        "colab": {
          "base_uri": "https://localhost:8080/"
        },
        "id": "NaiNuHgdUxY1",
        "outputId": "4819d239-9596-484c-ab4f-ea63b8515dfe"
      },
      "execution_count": 14,
      "outputs": [
        {
          "output_type": "stream",
          "name": "stdout",
          "text": [
            "Product     Phone\n",
            "Price         800\n",
            "Discount       50\n",
            "Name: 1, dtype: object\n"
          ]
        }
      ]
    },
    {
      "cell_type": "markdown",
      "source": [
        "### Exercise 6: Filter Data\n",
        "- **Task**: Filter the DataFrame to display only products with a price greater than **500**."
      ],
      "metadata": {
        "id": "MysacqZZU7NA"
      }
    },
    {
      "cell_type": "code",
      "source": [
        "filtered_df = df[df['Price'] > 500]\n",
        "print(filtered_df)"
      ],
      "metadata": {
        "colab": {
          "base_uri": "https://localhost:8080/"
        },
        "id": "QsV1agzXVBq7",
        "outputId": "2ff2b45f-3a0d-4fdc-9243-285685f979d4"
      },
      "execution_count": 17,
      "outputs": [
        {
          "output_type": "stream",
          "name": "stdout",
          "text": [
            "  Product  Price  Discount\n",
            "0  Laptop   1200       100\n",
            "1   Phone    800        50\n"
          ]
        }
      ]
    },
    {
      "cell_type": "markdown",
      "source": [
        "### Exercise 7: Create a DataFrame from a List\n",
        "- **Task**: Create a DataFrame from the following list of lists:\n",
        "  ```python\n",
        "  data = [\n",
        "      ['Alice', 24, 'Engineer'],\n",
        "      ['Bob', 30, 'Doctor'],\n",
        "      ['Charlie', 22, 'Artist']\n",
        "  ]\n",
        "  columns = ['Name', 'Age', 'Occupation']\n",
        "  df = pd.DataFrame(data, columns=columns)\n",
        "  ```\n",
        "  - Display the DataFrame."
      ],
      "metadata": {
        "id": "z7j5UYTWVUcl"
      }
    },
    {
      "cell_type": "code",
      "source": [
        "import pandas as pd\n",
        "data = [\n",
        "    ['Alice', 24, 'Engineer'],\n",
        "    ['Bob', 30, 'Doctor'],\n",
        "    ['Charlie', 22, 'Artist']\n",
        "]\n",
        "columns = ['Name', 'Age', 'Occupation']\n",
        "df = pd.DataFrame(data, columns=columns)\n",
        "print(df)"
      ],
      "metadata": {
        "colab": {
          "base_uri": "https://localhost:8080/"
        },
        "id": "_VC7eRjLVXAx",
        "outputId": "2d623a1d-0b3f-4e7c-e25d-1010ce9ace6b"
      },
      "execution_count": 18,
      "outputs": [
        {
          "output_type": "stream",
          "name": "stdout",
          "text": [
            "      Name  Age Occupation\n",
            "0    Alice   24   Engineer\n",
            "1      Bob   30     Doctor\n",
            "2  Charlie   22     Artist\n"
          ]
        }
      ]
    },
    {
      "cell_type": "markdown",
      "source": [
        "### Exercise 8: Add Multiple Columns\n",
        "- **Task**: To the DataFrame created in Exercise 7, add two new columns called **'Salary'** and **'Experience'** with values `[70000, 80000, 50000]` and `[2, 5, 1]` respectively.\n"
      ],
      "metadata": {
        "id": "N0mw0iodVxqr"
      }
    },
    {
      "cell_type": "code",
      "source": [
        "df['Salary']=[70000, 80000, 50000]\n",
        "df['Experience'] = [2, 5, 1]\n",
        "print(df)"
      ],
      "metadata": {
        "colab": {
          "base_uri": "https://localhost:8080/"
        },
        "id": "yJko5HEEV2cc",
        "outputId": "5315c005-bc2b-4ef9-d8e4-d0ab76fab361"
      },
      "execution_count": 32,
      "outputs": [
        {
          "output_type": "stream",
          "name": "stdout",
          "text": [
            "      Name  Age Occupation  Salary  Experience\n",
            "0    Alice   24   Engineer   70000           2\n",
            "1      Bob   30     Doctor   80000           5\n",
            "2  Charlie   22     Artist   50000           1\n"
          ]
        }
      ]
    },
    {
      "cell_type": "markdown",
      "source": [
        "### Exercise 9: Filter Rows Based on Multiple Conditions\n",
        "- **Task**: From the DataFrame in Exercise 7, filter the rows where **'Age'** is greater than **25** and **'Occupation'** is **'Doctor'**.\n"
      ],
      "metadata": {
        "id": "5XfeZSAuWIN0"
      }
    },
    {
      "cell_type": "code",
      "source": [
        "df_filter=df[(df['Age'] > 25) & (df['Occupation'] == 'Doctor')]\n",
        "print(df_filter)"
      ],
      "metadata": {
        "colab": {
          "base_uri": "https://localhost:8080/"
        },
        "id": "VNeb3afoWJJF",
        "outputId": "632b37c7-a132-4907-f631-6b7126770fdd"
      },
      "execution_count": 23,
      "outputs": [
        {
          "output_type": "stream",
          "name": "stdout",
          "text": [
            "  Name  Age Occupation  Salary  Experience\n",
            "1  Bob   30     Doctor   80000           5\n"
          ]
        }
      ]
    },
    {
      "cell_type": "markdown",
      "source": [
        "### Exercise 10: Modify a Column\n",
        "- **Task**: Modify the **'Salary'** column in the DataFrame created in Exercise 7 by increasing each salary by **10%**, and display the updated DataFrame."
      ],
      "metadata": {
        "id": "uaruu0HdW8PS"
      }
    },
    {
      "cell_type": "code",
      "source": [
        "import pandas as pd\n",
        "data = [\n",
        "    ['Alice', 24, 'Engineer'],\n",
        "    ['Bob', 30, 'Doctor'],\n",
        "    ['Charlie', 22, 'Artist']\n",
        "]\n",
        "columns = ['Name', 'Age', 'Occupation']\n",
        "df = pd.DataFrame(data, columns=columns)\n",
        "df['Salary']=[70000, 80000, 50000]\n",
        "df['Experience'] = [2, 5, 1]\n",
        "df['Salary'] = df['Salary'] * 1.1\n",
        "print(df)\n",
        "\n"
      ],
      "metadata": {
        "colab": {
          "base_uri": "https://localhost:8080/"
        },
        "id": "5vvx_eGCW89S",
        "outputId": "b069915f-10b0-4493-e674-67ec6b6acf49"
      },
      "execution_count": 35,
      "outputs": [
        {
          "output_type": "stream",
          "name": "stdout",
          "text": [
            "      Name  Age Occupation  Salary  Experience\n",
            "0    Alice   24   Engineer   70000           2\n",
            "1      Bob   30     Doctor   80000           5\n",
            "2  Charlie   22     Artist   50000           1\n",
            "      Name  Age Occupation   Salary  Experience\n",
            "0    Alice   24   Engineer  77000.0           2\n",
            "1      Bob   30     Doctor  88000.0           5\n",
            "2  Charlie   22     Artist  55000.0           1\n"
          ]
        }
      ]
    },
    {
      "cell_type": "code",
      "source": [
        "import pandas as pd\n",
        "data = [\n",
        "    ['Alice', 24, 'Engineer'],\n",
        "    ['Bob', 30, 'Doctor'],\n",
        "    ['Charlie', 22, 'Artist']\n",
        "]\n",
        "columns = ['Name', 'Age', 'Occupation']\n",
        "df = pd.DataFrame(data, columns=columns)\n",
        "df['Salary']=[70000, 80000, 50000]\n",
        "df['Experience'] = [2, 5, 1]\n",
        "df['Salary'] = df['Salary'] + df['Salary'] * (10/100)\n",
        "print(df)"
      ],
      "metadata": {
        "colab": {
          "base_uri": "https://localhost:8080/"
        },
        "id": "RdsSArDdYN3E",
        "outputId": "9ceca013-2715-49b2-89b0-9fd1f83a67c0"
      },
      "execution_count": 34,
      "outputs": [
        {
          "output_type": "stream",
          "name": "stdout",
          "text": [
            "      Name  Age Occupation   Salary  Experience\n",
            "0    Alice   24   Engineer  77000.0           2\n",
            "1      Bob   30     Doctor  88000.0           5\n",
            "2  Charlie   22     Artist  55000.0           1\n"
          ]
        }
      ]
    }
  ]
}